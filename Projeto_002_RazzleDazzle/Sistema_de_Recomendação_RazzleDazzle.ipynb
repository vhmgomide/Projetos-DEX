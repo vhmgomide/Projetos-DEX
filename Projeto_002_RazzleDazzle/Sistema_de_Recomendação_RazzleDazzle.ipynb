{
  "nbformat": 4,
  "nbformat_minor": 0,
  "metadata": {
    "colab": {
      "name": "Sistema de Recomendação_RazzleDazzle.ipynb",
      "provenance": [],
      "collapsed_sections": []
    },
    "kernelspec": {
      "name": "python3",
      "display_name": "Python 3"
    },
    "language_info": {
      "name": "python"
    }
  },
  "cells": [
    {
      "cell_type": "markdown",
      "metadata": {
        "id": "tUdn3EUmqESm"
      },
      "source": [
        "# Sistemas de Recomendação - Razzle Dazzle\n",
        "\n",
        "Durante a pandemia os números de vendas da Razzle Dazzle (e-commerce de variedades) dispararam, bem como o da concorrência. \n",
        "\n",
        "Uma das maneiras de se destacar nesse mercado cada vez mais competitivo é oferecer o produto certo para a pessoa certa.\n",
        "\n",
        "\n",
        "Portanto existe a necessidade de desenvolver um modelo de recomendação, que será disponibilizado no novo site da empresa. \n",
        "\n",
        "Além do modelo, é necessário informar qual o melhor momento para usá-lo, em propagandas, quando o cliente estiver fazendo uma pesquisa ou quando o cliente estiver vendo um produto. É fundamental que isso seja pensado no desenvolvimento do modelo.\n",
        "\n",
        "Bases de dados fornecidas pela empresa: \n",
        "* Orders\n",
        "* Orders Itens\n",
        "* Orders Reviews\n",
        "* Products"
      ]
    },
    {
      "cell_type": "markdown",
      "metadata": {
        "id": "-8XMC8nNmiWo"
      },
      "source": [
        "## Tratamento inicial"
      ]
    },
    {
      "cell_type": "markdown",
      "metadata": {
        "id": "C4N3hciqryv8"
      },
      "source": [
        "### Importando os pacotes necessários e configuração"
      ]
    },
    {
      "cell_type": "code",
      "metadata": {
        "id": "prSsFgkaptqt"
      },
      "source": [
        "from google.colab import files\n",
        "\n",
        "import progressbar as pb\n",
        "import warnings # supress warnings\n",
        "warnings.filterwarnings('always')\n",
        "warnings.filterwarnings('ignore')\n",
        "\n",
        "import pandas as pd\n",
        "import numpy as np\n",
        "import matplotlib.pyplot as plt\n",
        "import seaborn as sns\n",
        "\n",
        "# Add some convenience functions to Pandas DataFrame.\n",
        "pd.options.display.max_rows = 10\n",
        "pd.options.display.float_format = '{:.3f}'.format"
      ],
      "execution_count": 43,
      "outputs": []
    },
    {
      "cell_type": "markdown",
      "metadata": {
        "id": "ma5bjzf2sJYp"
      },
      "source": [
        "### Fazendo importação dos datasets\n",
        "\n",
        "Os datasets foram disponibilizados em arquivos .csv"
      ]
    },
    {
      "cell_type": "code",
      "metadata": {
        "colab": {
          "base_uri": "https://localhost:8080/"
        },
        "id": "sJN0ZEEysF6q",
        "outputId": "c7e8f960-e7a0-4cf4-8d4b-cff7904db5d3"
      },
      "source": [
        "# Upload do arquivo\n",
        "uploaded = files.upload()"
      ],
      "execution_count": 2,
      "outputs": [
        {
          "output_type": "display_data",
          "data": {
            "text/html": [
              "\n",
              "     <input type=\"file\" id=\"files-acbceed5-1eb1-4054-ba2c-6d4e8ce8b82f\" name=\"files[]\" multiple disabled\n",
              "        style=\"border:none\" />\n",
              "     <output id=\"result-acbceed5-1eb1-4054-ba2c-6d4e8ce8b82f\">\n",
              "      Upload widget is only available when the cell has been executed in the\n",
              "      current browser session. Please rerun this cell to enable.\n",
              "      </output>\n",
              "      <script src=\"/nbextensions/google.colab/files.js\"></script> "
            ],
            "text/plain": [
              "<IPython.core.display.HTML object>"
            ]
          },
          "metadata": {}
        },
        {
          "output_type": "error",
          "ename": "KeyboardInterrupt",
          "evalue": "ignored",
          "traceback": [
            "\u001b[0;31m---------------------------------------------------------------------------\u001b[0m",
            "\u001b[0;31mKeyboardInterrupt\u001b[0m                         Traceback (most recent call last)",
            "\u001b[0;32m<ipython-input-2-aaba5ce51c94>\u001b[0m in \u001b[0;36m<module>\u001b[0;34m()\u001b[0m\n\u001b[1;32m      1\u001b[0m \u001b[0;31m# Upload do arquivo\u001b[0m\u001b[0;34m\u001b[0m\u001b[0;34m\u001b[0m\u001b[0;34m\u001b[0m\u001b[0m\n\u001b[0;32m----> 2\u001b[0;31m \u001b[0muploaded\u001b[0m \u001b[0;34m=\u001b[0m \u001b[0mfiles\u001b[0m\u001b[0;34m.\u001b[0m\u001b[0mupload\u001b[0m\u001b[0;34m(\u001b[0m\u001b[0;34m)\u001b[0m\u001b[0;34m\u001b[0m\u001b[0;34m\u001b[0m\u001b[0m\n\u001b[0m",
            "\u001b[0;32m/usr/local/lib/python3.7/dist-packages/google/colab/files.py\u001b[0m in \u001b[0;36mupload\u001b[0;34m()\u001b[0m\n\u001b[1;32m     62\u001b[0m   result = _output.eval_js(\n\u001b[1;32m     63\u001b[0m       'google.colab._files._uploadFiles(\"{input_id}\", \"{output_id}\")'.format(\n\u001b[0;32m---> 64\u001b[0;31m           input_id=input_id, output_id=output_id))\n\u001b[0m\u001b[1;32m     65\u001b[0m   \u001b[0mfiles\u001b[0m \u001b[0;34m=\u001b[0m \u001b[0m_collections\u001b[0m\u001b[0;34m.\u001b[0m\u001b[0mdefaultdict\u001b[0m\u001b[0;34m(\u001b[0m\u001b[0m_six\u001b[0m\u001b[0;34m.\u001b[0m\u001b[0mbinary_type\u001b[0m\u001b[0;34m)\u001b[0m\u001b[0;34m\u001b[0m\u001b[0;34m\u001b[0m\u001b[0m\n\u001b[1;32m     66\u001b[0m   \u001b[0;31m# Mapping from original filename to filename as saved locally.\u001b[0m\u001b[0;34m\u001b[0m\u001b[0;34m\u001b[0m\u001b[0;34m\u001b[0m\u001b[0m\n",
            "\u001b[0;32m/usr/local/lib/python3.7/dist-packages/google/colab/output/_js.py\u001b[0m in \u001b[0;36meval_js\u001b[0;34m(script, ignore_result, timeout_sec)\u001b[0m\n\u001b[1;32m     38\u001b[0m   \u001b[0;32mif\u001b[0m \u001b[0mignore_result\u001b[0m\u001b[0;34m:\u001b[0m\u001b[0;34m\u001b[0m\u001b[0;34m\u001b[0m\u001b[0m\n\u001b[1;32m     39\u001b[0m     \u001b[0;32mreturn\u001b[0m\u001b[0;34m\u001b[0m\u001b[0;34m\u001b[0m\u001b[0m\n\u001b[0;32m---> 40\u001b[0;31m   \u001b[0;32mreturn\u001b[0m \u001b[0m_message\u001b[0m\u001b[0;34m.\u001b[0m\u001b[0mread_reply_from_input\u001b[0m\u001b[0;34m(\u001b[0m\u001b[0mrequest_id\u001b[0m\u001b[0;34m,\u001b[0m \u001b[0mtimeout_sec\u001b[0m\u001b[0;34m)\u001b[0m\u001b[0;34m\u001b[0m\u001b[0;34m\u001b[0m\u001b[0m\n\u001b[0m\u001b[1;32m     41\u001b[0m \u001b[0;34m\u001b[0m\u001b[0m\n\u001b[1;32m     42\u001b[0m \u001b[0;34m\u001b[0m\u001b[0m\n",
            "\u001b[0;32m/usr/local/lib/python3.7/dist-packages/google/colab/_message.py\u001b[0m in \u001b[0;36mread_reply_from_input\u001b[0;34m(message_id, timeout_sec)\u001b[0m\n\u001b[1;32m     99\u001b[0m     \u001b[0mreply\u001b[0m \u001b[0;34m=\u001b[0m \u001b[0m_read_next_input_message\u001b[0m\u001b[0;34m(\u001b[0m\u001b[0;34m)\u001b[0m\u001b[0;34m\u001b[0m\u001b[0;34m\u001b[0m\u001b[0m\n\u001b[1;32m    100\u001b[0m     \u001b[0;32mif\u001b[0m \u001b[0mreply\u001b[0m \u001b[0;34m==\u001b[0m \u001b[0m_NOT_READY\u001b[0m \u001b[0;32mor\u001b[0m \u001b[0;32mnot\u001b[0m \u001b[0misinstance\u001b[0m\u001b[0;34m(\u001b[0m\u001b[0mreply\u001b[0m\u001b[0;34m,\u001b[0m \u001b[0mdict\u001b[0m\u001b[0;34m)\u001b[0m\u001b[0;34m:\u001b[0m\u001b[0;34m\u001b[0m\u001b[0;34m\u001b[0m\u001b[0m\n\u001b[0;32m--> 101\u001b[0;31m       \u001b[0mtime\u001b[0m\u001b[0;34m.\u001b[0m\u001b[0msleep\u001b[0m\u001b[0;34m(\u001b[0m\u001b[0;36m0.025\u001b[0m\u001b[0;34m)\u001b[0m\u001b[0;34m\u001b[0m\u001b[0;34m\u001b[0m\u001b[0m\n\u001b[0m\u001b[1;32m    102\u001b[0m       \u001b[0;32mcontinue\u001b[0m\u001b[0;34m\u001b[0m\u001b[0;34m\u001b[0m\u001b[0m\n\u001b[1;32m    103\u001b[0m     if (reply.get('type') == 'colab_reply' and\n",
            "\u001b[0;31mKeyboardInterrupt\u001b[0m: "
          ]
        }
      ]
    },
    {
      "cell_type": "markdown",
      "metadata": {
        "id": "PDlBgSIFs2Ga"
      },
      "source": [
        "### Carregando dados\n",
        "\n",
        "Ler o arquivo csv e colocar em um dataframe."
      ]
    },
    {
      "cell_type": "code",
      "metadata": {
        "id": "zZ6PmFb4sS6a"
      },
      "source": [
        "orders_df = pd.read_csv('DNC_orders_dataset.csv')\n",
        "orders_itens_df = pd.read_csv('DNC_order_items_dataset.csv')\n",
        "orders_reviews_df = pd.read_csv('DNC_order_reviews_dataset.csv')\n",
        "products_df = pd.read_csv('DNC_products_dataset.csv')"
      ],
      "execution_count": 2,
      "outputs": []
    },
    {
      "cell_type": "markdown",
      "metadata": {
        "id": "UAB5uURRwVCD"
      },
      "source": [
        "### Analisando os dados brevemente\n",
        "\n",
        "O objetivo desta exploração é entender a estrutura dos datasets e avaliar as necessidades de limpeza dos dados para nosso objetivo"
      ]
    },
    {
      "cell_type": "code",
      "metadata": {
        "id": "BXb41ozWvkxd"
      },
      "source": [
        "def analiseInicial(dataf, desc):\n",
        "  display(dataf.head().style.set_caption('Sample of ' + desc))\n",
        "  print(f'Shape is {dataf.shape} \\n\\n')\n",
        "\n",
        "  # Avaliando valores null\n",
        "  print(f'Avaliando nulls\\n\\n{dataf.isnull().sum()}\\n\\n')\n",
        "\n",
        "  # Describe\n",
        "  print(f'Describe de todas as variáveis\\n\\n {dataf.describe()}')"
      ],
      "execution_count": 3,
      "outputs": []
    },
    {
      "cell_type": "code",
      "metadata": {
        "colab": {
          "base_uri": "https://localhost:8080/",
          "height": 1000
        },
        "id": "fLCKlfwgws9e",
        "outputId": "622271c6-d295-4501-c835-4513e98655ff"
      },
      "source": [
        "analiseInicial(orders_df, 'orders_df')\n",
        "analiseInicial(orders_itens_df, 'orders_itens_df')\n",
        "analiseInicial(orders_reviews_df, 'orders_reviews_df')\n",
        "analiseInicial(products_df, 'products_df')"
      ],
      "execution_count": 4,
      "outputs": [
        {
          "output_type": "display_data",
          "data": {
            "text/html": [
              "<style  type=\"text/css\" >\n",
              "</style><table id=\"T_1ba9f454_3f2e_11ec_9086_0242ac1c0002\" class=\"dataframe\"><caption>Sample of orders_df</caption><thead>    <tr>        <th class=\"blank level0\" ></th>        <th class=\"col_heading level0 col0\" >Unnamed: 0</th>        <th class=\"col_heading level0 col1\" >order_id</th>        <th class=\"col_heading level0 col2\" >customer_id</th>        <th class=\"col_heading level0 col3\" >order_status</th>    </tr></thead><tbody>\n",
              "                <tr>\n",
              "                        <th id=\"T_1ba9f454_3f2e_11ec_9086_0242ac1c0002level0_row0\" class=\"row_heading level0 row0\" >0</th>\n",
              "                        <td id=\"T_1ba9f454_3f2e_11ec_9086_0242ac1c0002row0_col0\" class=\"data row0 col0\" >0</td>\n",
              "                        <td id=\"T_1ba9f454_3f2e_11ec_9086_0242ac1c0002row0_col1\" class=\"data row0 col1\" >e481f51cbdc54678b7cc49136f2d6af7</td>\n",
              "                        <td id=\"T_1ba9f454_3f2e_11ec_9086_0242ac1c0002row0_col2\" class=\"data row0 col2\" >9ef432eb6251297304e76186b10a928d</td>\n",
              "                        <td id=\"T_1ba9f454_3f2e_11ec_9086_0242ac1c0002row0_col3\" class=\"data row0 col3\" >delivered</td>\n",
              "            </tr>\n",
              "            <tr>\n",
              "                        <th id=\"T_1ba9f454_3f2e_11ec_9086_0242ac1c0002level0_row1\" class=\"row_heading level0 row1\" >1</th>\n",
              "                        <td id=\"T_1ba9f454_3f2e_11ec_9086_0242ac1c0002row1_col0\" class=\"data row1 col0\" >1</td>\n",
              "                        <td id=\"T_1ba9f454_3f2e_11ec_9086_0242ac1c0002row1_col1\" class=\"data row1 col1\" >53cdb2fc8bc7dce0b6741e2150273451</td>\n",
              "                        <td id=\"T_1ba9f454_3f2e_11ec_9086_0242ac1c0002row1_col2\" class=\"data row1 col2\" >b0830fb4747a6c6d20dea0b8c802d7ef</td>\n",
              "                        <td id=\"T_1ba9f454_3f2e_11ec_9086_0242ac1c0002row1_col3\" class=\"data row1 col3\" >delivered</td>\n",
              "            </tr>\n",
              "            <tr>\n",
              "                        <th id=\"T_1ba9f454_3f2e_11ec_9086_0242ac1c0002level0_row2\" class=\"row_heading level0 row2\" >2</th>\n",
              "                        <td id=\"T_1ba9f454_3f2e_11ec_9086_0242ac1c0002row2_col0\" class=\"data row2 col0\" >2</td>\n",
              "                        <td id=\"T_1ba9f454_3f2e_11ec_9086_0242ac1c0002row2_col1\" class=\"data row2 col1\" >47770eb9100c2d0c44946d9cf07ec65d</td>\n",
              "                        <td id=\"T_1ba9f454_3f2e_11ec_9086_0242ac1c0002row2_col2\" class=\"data row2 col2\" >41ce2a54c0b03bf3443c3d931a367089</td>\n",
              "                        <td id=\"T_1ba9f454_3f2e_11ec_9086_0242ac1c0002row2_col3\" class=\"data row2 col3\" >delivered</td>\n",
              "            </tr>\n",
              "            <tr>\n",
              "                        <th id=\"T_1ba9f454_3f2e_11ec_9086_0242ac1c0002level0_row3\" class=\"row_heading level0 row3\" >3</th>\n",
              "                        <td id=\"T_1ba9f454_3f2e_11ec_9086_0242ac1c0002row3_col0\" class=\"data row3 col0\" >3</td>\n",
              "                        <td id=\"T_1ba9f454_3f2e_11ec_9086_0242ac1c0002row3_col1\" class=\"data row3 col1\" >949d5b44dbf5de918fe9c16f97b45f8a</td>\n",
              "                        <td id=\"T_1ba9f454_3f2e_11ec_9086_0242ac1c0002row3_col2\" class=\"data row3 col2\" >f88197465ea7920adcdbec7375364d82</td>\n",
              "                        <td id=\"T_1ba9f454_3f2e_11ec_9086_0242ac1c0002row3_col3\" class=\"data row3 col3\" >delivered</td>\n",
              "            </tr>\n",
              "            <tr>\n",
              "                        <th id=\"T_1ba9f454_3f2e_11ec_9086_0242ac1c0002level0_row4\" class=\"row_heading level0 row4\" >4</th>\n",
              "                        <td id=\"T_1ba9f454_3f2e_11ec_9086_0242ac1c0002row4_col0\" class=\"data row4 col0\" >4</td>\n",
              "                        <td id=\"T_1ba9f454_3f2e_11ec_9086_0242ac1c0002row4_col1\" class=\"data row4 col1\" >ad21c59c0840e6cb83a9ceb5573f8159</td>\n",
              "                        <td id=\"T_1ba9f454_3f2e_11ec_9086_0242ac1c0002row4_col2\" class=\"data row4 col2\" >8ab97904e6daea8866dbdbc4fb7aad2c</td>\n",
              "                        <td id=\"T_1ba9f454_3f2e_11ec_9086_0242ac1c0002row4_col3\" class=\"data row4 col3\" >delivered</td>\n",
              "            </tr>\n",
              "    </tbody></table>"
            ],
            "text/plain": [
              "<pandas.io.formats.style.Styler at 0x7f765425cd90>"
            ]
          },
          "metadata": {}
        },
        {
          "output_type": "stream",
          "name": "stdout",
          "text": [
            "Shape is (99441, 4) \n",
            "\n",
            "\n",
            "Avaliando nulls\n",
            "\n",
            "Unnamed: 0      0\n",
            "order_id        0\n",
            "customer_id     0\n",
            "order_status    0\n",
            "dtype: int64\n",
            "\n",
            "\n",
            "Describe de todas as variáveis\n",
            "\n",
            "        Unnamed: 0\n",
            "count   99441.000\n",
            "mean    49720.000\n",
            "std     28706.288\n",
            "min         0.000\n",
            "25%     24860.000\n",
            "50%     49720.000\n",
            "75%     74580.000\n",
            "max     99440.000\n"
          ]
        },
        {
          "output_type": "display_data",
          "data": {
            "text/html": [
              "<style  type=\"text/css\" >\n",
              "</style><table id=\"T_1bb19a4c_3f2e_11ec_9086_0242ac1c0002\" class=\"dataframe\"><caption>Sample of orders_itens_df</caption><thead>    <tr>        <th class=\"blank level0\" ></th>        <th class=\"col_heading level0 col0\" >Unnamed: 0</th>        <th class=\"col_heading level0 col1\" >order_id</th>        <th class=\"col_heading level0 col2\" >order_item_id</th>        <th class=\"col_heading level0 col3\" >product_id</th>        <th class=\"col_heading level0 col4\" >price</th>    </tr></thead><tbody>\n",
              "                <tr>\n",
              "                        <th id=\"T_1bb19a4c_3f2e_11ec_9086_0242ac1c0002level0_row0\" class=\"row_heading level0 row0\" >0</th>\n",
              "                        <td id=\"T_1bb19a4c_3f2e_11ec_9086_0242ac1c0002row0_col0\" class=\"data row0 col0\" >0</td>\n",
              "                        <td id=\"T_1bb19a4c_3f2e_11ec_9086_0242ac1c0002row0_col1\" class=\"data row0 col1\" >00010242fe8c5a6d1ba2dd792cb16214</td>\n",
              "                        <td id=\"T_1bb19a4c_3f2e_11ec_9086_0242ac1c0002row0_col2\" class=\"data row0 col2\" >1</td>\n",
              "                        <td id=\"T_1bb19a4c_3f2e_11ec_9086_0242ac1c0002row0_col3\" class=\"data row0 col3\" >4244733e06e7ecb4970a6e2683c13e61</td>\n",
              "                        <td id=\"T_1bb19a4c_3f2e_11ec_9086_0242ac1c0002row0_col4\" class=\"data row0 col4\" >58.900000</td>\n",
              "            </tr>\n",
              "            <tr>\n",
              "                        <th id=\"T_1bb19a4c_3f2e_11ec_9086_0242ac1c0002level0_row1\" class=\"row_heading level0 row1\" >1</th>\n",
              "                        <td id=\"T_1bb19a4c_3f2e_11ec_9086_0242ac1c0002row1_col0\" class=\"data row1 col0\" >1</td>\n",
              "                        <td id=\"T_1bb19a4c_3f2e_11ec_9086_0242ac1c0002row1_col1\" class=\"data row1 col1\" >00018f77f2f0320c557190d7a144bdd3</td>\n",
              "                        <td id=\"T_1bb19a4c_3f2e_11ec_9086_0242ac1c0002row1_col2\" class=\"data row1 col2\" >1</td>\n",
              "                        <td id=\"T_1bb19a4c_3f2e_11ec_9086_0242ac1c0002row1_col3\" class=\"data row1 col3\" >e5f2d52b802189ee658865ca93d83a8f</td>\n",
              "                        <td id=\"T_1bb19a4c_3f2e_11ec_9086_0242ac1c0002row1_col4\" class=\"data row1 col4\" >239.900000</td>\n",
              "            </tr>\n",
              "            <tr>\n",
              "                        <th id=\"T_1bb19a4c_3f2e_11ec_9086_0242ac1c0002level0_row2\" class=\"row_heading level0 row2\" >2</th>\n",
              "                        <td id=\"T_1bb19a4c_3f2e_11ec_9086_0242ac1c0002row2_col0\" class=\"data row2 col0\" >2</td>\n",
              "                        <td id=\"T_1bb19a4c_3f2e_11ec_9086_0242ac1c0002row2_col1\" class=\"data row2 col1\" >000229ec398224ef6ca0657da4fc703e</td>\n",
              "                        <td id=\"T_1bb19a4c_3f2e_11ec_9086_0242ac1c0002row2_col2\" class=\"data row2 col2\" >1</td>\n",
              "                        <td id=\"T_1bb19a4c_3f2e_11ec_9086_0242ac1c0002row2_col3\" class=\"data row2 col3\" >c777355d18b72b67abbeef9df44fd0fd</td>\n",
              "                        <td id=\"T_1bb19a4c_3f2e_11ec_9086_0242ac1c0002row2_col4\" class=\"data row2 col4\" >199.000000</td>\n",
              "            </tr>\n",
              "            <tr>\n",
              "                        <th id=\"T_1bb19a4c_3f2e_11ec_9086_0242ac1c0002level0_row3\" class=\"row_heading level0 row3\" >3</th>\n",
              "                        <td id=\"T_1bb19a4c_3f2e_11ec_9086_0242ac1c0002row3_col0\" class=\"data row3 col0\" >3</td>\n",
              "                        <td id=\"T_1bb19a4c_3f2e_11ec_9086_0242ac1c0002row3_col1\" class=\"data row3 col1\" >00024acbcdf0a6daa1e931b038114c75</td>\n",
              "                        <td id=\"T_1bb19a4c_3f2e_11ec_9086_0242ac1c0002row3_col2\" class=\"data row3 col2\" >1</td>\n",
              "                        <td id=\"T_1bb19a4c_3f2e_11ec_9086_0242ac1c0002row3_col3\" class=\"data row3 col3\" >7634da152a4610f1595efa32f14722fc</td>\n",
              "                        <td id=\"T_1bb19a4c_3f2e_11ec_9086_0242ac1c0002row3_col4\" class=\"data row3 col4\" >12.990000</td>\n",
              "            </tr>\n",
              "            <tr>\n",
              "                        <th id=\"T_1bb19a4c_3f2e_11ec_9086_0242ac1c0002level0_row4\" class=\"row_heading level0 row4\" >4</th>\n",
              "                        <td id=\"T_1bb19a4c_3f2e_11ec_9086_0242ac1c0002row4_col0\" class=\"data row4 col0\" >4</td>\n",
              "                        <td id=\"T_1bb19a4c_3f2e_11ec_9086_0242ac1c0002row4_col1\" class=\"data row4 col1\" >00042b26cf59d7ce69dfabb4e55b4fd9</td>\n",
              "                        <td id=\"T_1bb19a4c_3f2e_11ec_9086_0242ac1c0002row4_col2\" class=\"data row4 col2\" >1</td>\n",
              "                        <td id=\"T_1bb19a4c_3f2e_11ec_9086_0242ac1c0002row4_col3\" class=\"data row4 col3\" >ac6c3623068f30de03045865e4e10089</td>\n",
              "                        <td id=\"T_1bb19a4c_3f2e_11ec_9086_0242ac1c0002row4_col4\" class=\"data row4 col4\" >199.900000</td>\n",
              "            </tr>\n",
              "    </tbody></table>"
            ],
            "text/plain": [
              "<pandas.io.formats.style.Styler at 0x7f765c21c9d0>"
            ]
          },
          "metadata": {}
        },
        {
          "output_type": "stream",
          "name": "stdout",
          "text": [
            "Shape is (112650, 5) \n",
            "\n",
            "\n",
            "Avaliando nulls\n",
            "\n",
            "Unnamed: 0       0\n",
            "order_id         0\n",
            "order_item_id    0\n",
            "product_id       0\n",
            "price            0\n",
            "dtype: int64\n",
            "\n",
            "\n",
            "Describe de todas as variáveis\n",
            "\n",
            "        Unnamed: 0  order_item_id      price\n",
            "count  112650.000     112650.000 112650.000\n",
            "mean    56324.500          1.198    120.654\n",
            "std     32519.398          0.705    183.634\n",
            "min         0.000          1.000      0.850\n",
            "25%     28162.250          1.000     39.900\n",
            "50%     56324.500          1.000     74.990\n",
            "75%     84486.750          1.000    134.900\n",
            "max    112649.000         21.000   6735.000\n"
          ]
        },
        {
          "output_type": "display_data",
          "data": {
            "text/html": [
              "<style  type=\"text/css\" >\n",
              "</style><table id=\"T_1bba2e32_3f2e_11ec_9086_0242ac1c0002\" class=\"dataframe\"><caption>Sample of orders_reviews_df</caption><thead>    <tr>        <th class=\"blank level0\" ></th>        <th class=\"col_heading level0 col0\" >Unnamed: 0</th>        <th class=\"col_heading level0 col1\" >review_id</th>        <th class=\"col_heading level0 col2\" >order_id</th>        <th class=\"col_heading level0 col3\" >review_score</th>    </tr></thead><tbody>\n",
              "                <tr>\n",
              "                        <th id=\"T_1bba2e32_3f2e_11ec_9086_0242ac1c0002level0_row0\" class=\"row_heading level0 row0\" >0</th>\n",
              "                        <td id=\"T_1bba2e32_3f2e_11ec_9086_0242ac1c0002row0_col0\" class=\"data row0 col0\" >0</td>\n",
              "                        <td id=\"T_1bba2e32_3f2e_11ec_9086_0242ac1c0002row0_col1\" class=\"data row0 col1\" >7bc2406110b926393aa56f80a40eba40</td>\n",
              "                        <td id=\"T_1bba2e32_3f2e_11ec_9086_0242ac1c0002row0_col2\" class=\"data row0 col2\" >73fc7af87114b39712e6da79b0a377eb</td>\n",
              "                        <td id=\"T_1bba2e32_3f2e_11ec_9086_0242ac1c0002row0_col3\" class=\"data row0 col3\" >4</td>\n",
              "            </tr>\n",
              "            <tr>\n",
              "                        <th id=\"T_1bba2e32_3f2e_11ec_9086_0242ac1c0002level0_row1\" class=\"row_heading level0 row1\" >1</th>\n",
              "                        <td id=\"T_1bba2e32_3f2e_11ec_9086_0242ac1c0002row1_col0\" class=\"data row1 col0\" >1</td>\n",
              "                        <td id=\"T_1bba2e32_3f2e_11ec_9086_0242ac1c0002row1_col1\" class=\"data row1 col1\" >80e641a11e56f04c1ad469d5645fdfde</td>\n",
              "                        <td id=\"T_1bba2e32_3f2e_11ec_9086_0242ac1c0002row1_col2\" class=\"data row1 col2\" >a548910a1c6147796b98fdf73dbeba33</td>\n",
              "                        <td id=\"T_1bba2e32_3f2e_11ec_9086_0242ac1c0002row1_col3\" class=\"data row1 col3\" >5</td>\n",
              "            </tr>\n",
              "            <tr>\n",
              "                        <th id=\"T_1bba2e32_3f2e_11ec_9086_0242ac1c0002level0_row2\" class=\"row_heading level0 row2\" >2</th>\n",
              "                        <td id=\"T_1bba2e32_3f2e_11ec_9086_0242ac1c0002row2_col0\" class=\"data row2 col0\" >2</td>\n",
              "                        <td id=\"T_1bba2e32_3f2e_11ec_9086_0242ac1c0002row2_col1\" class=\"data row2 col1\" >228ce5500dc1d8e020d8d1322874b6f0</td>\n",
              "                        <td id=\"T_1bba2e32_3f2e_11ec_9086_0242ac1c0002row2_col2\" class=\"data row2 col2\" >f9e4b658b201a9f2ecdecbb34bed034b</td>\n",
              "                        <td id=\"T_1bba2e32_3f2e_11ec_9086_0242ac1c0002row2_col3\" class=\"data row2 col3\" >5</td>\n",
              "            </tr>\n",
              "            <tr>\n",
              "                        <th id=\"T_1bba2e32_3f2e_11ec_9086_0242ac1c0002level0_row3\" class=\"row_heading level0 row3\" >3</th>\n",
              "                        <td id=\"T_1bba2e32_3f2e_11ec_9086_0242ac1c0002row3_col0\" class=\"data row3 col0\" >3</td>\n",
              "                        <td id=\"T_1bba2e32_3f2e_11ec_9086_0242ac1c0002row3_col1\" class=\"data row3 col1\" >e64fb393e7b32834bb789ff8bb30750e</td>\n",
              "                        <td id=\"T_1bba2e32_3f2e_11ec_9086_0242ac1c0002row3_col2\" class=\"data row3 col2\" >658677c97b385a9be170737859d3511b</td>\n",
              "                        <td id=\"T_1bba2e32_3f2e_11ec_9086_0242ac1c0002row3_col3\" class=\"data row3 col3\" >5</td>\n",
              "            </tr>\n",
              "            <tr>\n",
              "                        <th id=\"T_1bba2e32_3f2e_11ec_9086_0242ac1c0002level0_row4\" class=\"row_heading level0 row4\" >4</th>\n",
              "                        <td id=\"T_1bba2e32_3f2e_11ec_9086_0242ac1c0002row4_col0\" class=\"data row4 col0\" >4</td>\n",
              "                        <td id=\"T_1bba2e32_3f2e_11ec_9086_0242ac1c0002row4_col1\" class=\"data row4 col1\" >f7c4243c7fe1938f181bec41a392bdeb</td>\n",
              "                        <td id=\"T_1bba2e32_3f2e_11ec_9086_0242ac1c0002row4_col2\" class=\"data row4 col2\" >8e6bfb81e283fa7e4f11123a3fb894f1</td>\n",
              "                        <td id=\"T_1bba2e32_3f2e_11ec_9086_0242ac1c0002row4_col3\" class=\"data row4 col3\" >5</td>\n",
              "            </tr>\n",
              "    </tbody></table>"
            ],
            "text/plain": [
              "<pandas.io.formats.style.Styler at 0x7f7653fab250>"
            ]
          },
          "metadata": {}
        },
        {
          "output_type": "stream",
          "name": "stdout",
          "text": [
            "Shape is (99224, 4) \n",
            "\n",
            "\n",
            "Avaliando nulls\n",
            "\n",
            "Unnamed: 0      0\n",
            "review_id       0\n",
            "order_id        0\n",
            "review_score    0\n",
            "dtype: int64\n",
            "\n",
            "\n",
            "Describe de todas as variáveis\n",
            "\n",
            "        Unnamed: 0  review_score\n",
            "count   99224.000     99224.000\n",
            "mean    49611.500         4.086\n",
            "std     28643.646         1.348\n",
            "min         0.000         1.000\n",
            "25%     24805.750         4.000\n",
            "50%     49611.500         5.000\n",
            "75%     74417.250         5.000\n",
            "max     99223.000         5.000\n"
          ]
        },
        {
          "output_type": "display_data",
          "data": {
            "text/html": [
              "<style  type=\"text/css\" >\n",
              "</style><table id=\"T_1bc1e0dc_3f2e_11ec_9086_0242ac1c0002\" class=\"dataframe\"><caption>Sample of products_df</caption><thead>    <tr>        <th class=\"blank level0\" ></th>        <th class=\"col_heading level0 col0\" >Unnamed: 0</th>        <th class=\"col_heading level0 col1\" >product_id</th>        <th class=\"col_heading level0 col2\" >product_category_name</th>        <th class=\"col_heading level0 col3\" >product_name_lenght</th>        <th class=\"col_heading level0 col4\" >product_description_lenght</th>        <th class=\"col_heading level0 col5\" >product_weight_g</th>        <th class=\"col_heading level0 col6\" >product_length_cm</th>        <th class=\"col_heading level0 col7\" >product_height_cm</th>        <th class=\"col_heading level0 col8\" >product_width_cm</th>    </tr></thead><tbody>\n",
              "                <tr>\n",
              "                        <th id=\"T_1bc1e0dc_3f2e_11ec_9086_0242ac1c0002level0_row0\" class=\"row_heading level0 row0\" >0</th>\n",
              "                        <td id=\"T_1bc1e0dc_3f2e_11ec_9086_0242ac1c0002row0_col0\" class=\"data row0 col0\" >0</td>\n",
              "                        <td id=\"T_1bc1e0dc_3f2e_11ec_9086_0242ac1c0002row0_col1\" class=\"data row0 col1\" >1e9e8ef04dbcff4541ed26657ea517e5</td>\n",
              "                        <td id=\"T_1bc1e0dc_3f2e_11ec_9086_0242ac1c0002row0_col2\" class=\"data row0 col2\" >perfumaria</td>\n",
              "                        <td id=\"T_1bc1e0dc_3f2e_11ec_9086_0242ac1c0002row0_col3\" class=\"data row0 col3\" >40.000000</td>\n",
              "                        <td id=\"T_1bc1e0dc_3f2e_11ec_9086_0242ac1c0002row0_col4\" class=\"data row0 col4\" >287.000000</td>\n",
              "                        <td id=\"T_1bc1e0dc_3f2e_11ec_9086_0242ac1c0002row0_col5\" class=\"data row0 col5\" >225.000000</td>\n",
              "                        <td id=\"T_1bc1e0dc_3f2e_11ec_9086_0242ac1c0002row0_col6\" class=\"data row0 col6\" >16.000000</td>\n",
              "                        <td id=\"T_1bc1e0dc_3f2e_11ec_9086_0242ac1c0002row0_col7\" class=\"data row0 col7\" >10.000000</td>\n",
              "                        <td id=\"T_1bc1e0dc_3f2e_11ec_9086_0242ac1c0002row0_col8\" class=\"data row0 col8\" >14.000000</td>\n",
              "            </tr>\n",
              "            <tr>\n",
              "                        <th id=\"T_1bc1e0dc_3f2e_11ec_9086_0242ac1c0002level0_row1\" class=\"row_heading level0 row1\" >1</th>\n",
              "                        <td id=\"T_1bc1e0dc_3f2e_11ec_9086_0242ac1c0002row1_col0\" class=\"data row1 col0\" >1</td>\n",
              "                        <td id=\"T_1bc1e0dc_3f2e_11ec_9086_0242ac1c0002row1_col1\" class=\"data row1 col1\" >3aa071139cb16b67ca9e5dea641aaa2f</td>\n",
              "                        <td id=\"T_1bc1e0dc_3f2e_11ec_9086_0242ac1c0002row1_col2\" class=\"data row1 col2\" >artes</td>\n",
              "                        <td id=\"T_1bc1e0dc_3f2e_11ec_9086_0242ac1c0002row1_col3\" class=\"data row1 col3\" >44.000000</td>\n",
              "                        <td id=\"T_1bc1e0dc_3f2e_11ec_9086_0242ac1c0002row1_col4\" class=\"data row1 col4\" >276.000000</td>\n",
              "                        <td id=\"T_1bc1e0dc_3f2e_11ec_9086_0242ac1c0002row1_col5\" class=\"data row1 col5\" >1000.000000</td>\n",
              "                        <td id=\"T_1bc1e0dc_3f2e_11ec_9086_0242ac1c0002row1_col6\" class=\"data row1 col6\" >30.000000</td>\n",
              "                        <td id=\"T_1bc1e0dc_3f2e_11ec_9086_0242ac1c0002row1_col7\" class=\"data row1 col7\" >18.000000</td>\n",
              "                        <td id=\"T_1bc1e0dc_3f2e_11ec_9086_0242ac1c0002row1_col8\" class=\"data row1 col8\" >20.000000</td>\n",
              "            </tr>\n",
              "            <tr>\n",
              "                        <th id=\"T_1bc1e0dc_3f2e_11ec_9086_0242ac1c0002level0_row2\" class=\"row_heading level0 row2\" >2</th>\n",
              "                        <td id=\"T_1bc1e0dc_3f2e_11ec_9086_0242ac1c0002row2_col0\" class=\"data row2 col0\" >2</td>\n",
              "                        <td id=\"T_1bc1e0dc_3f2e_11ec_9086_0242ac1c0002row2_col1\" class=\"data row2 col1\" >96bd76ec8810374ed1b65e291975717f</td>\n",
              "                        <td id=\"T_1bc1e0dc_3f2e_11ec_9086_0242ac1c0002row2_col2\" class=\"data row2 col2\" >esporte_lazer</td>\n",
              "                        <td id=\"T_1bc1e0dc_3f2e_11ec_9086_0242ac1c0002row2_col3\" class=\"data row2 col3\" >46.000000</td>\n",
              "                        <td id=\"T_1bc1e0dc_3f2e_11ec_9086_0242ac1c0002row2_col4\" class=\"data row2 col4\" >250.000000</td>\n",
              "                        <td id=\"T_1bc1e0dc_3f2e_11ec_9086_0242ac1c0002row2_col5\" class=\"data row2 col5\" >154.000000</td>\n",
              "                        <td id=\"T_1bc1e0dc_3f2e_11ec_9086_0242ac1c0002row2_col6\" class=\"data row2 col6\" >18.000000</td>\n",
              "                        <td id=\"T_1bc1e0dc_3f2e_11ec_9086_0242ac1c0002row2_col7\" class=\"data row2 col7\" >9.000000</td>\n",
              "                        <td id=\"T_1bc1e0dc_3f2e_11ec_9086_0242ac1c0002row2_col8\" class=\"data row2 col8\" >15.000000</td>\n",
              "            </tr>\n",
              "            <tr>\n",
              "                        <th id=\"T_1bc1e0dc_3f2e_11ec_9086_0242ac1c0002level0_row3\" class=\"row_heading level0 row3\" >3</th>\n",
              "                        <td id=\"T_1bc1e0dc_3f2e_11ec_9086_0242ac1c0002row3_col0\" class=\"data row3 col0\" >3</td>\n",
              "                        <td id=\"T_1bc1e0dc_3f2e_11ec_9086_0242ac1c0002row3_col1\" class=\"data row3 col1\" >cef67bcfe19066a932b7673e239eb23d</td>\n",
              "                        <td id=\"T_1bc1e0dc_3f2e_11ec_9086_0242ac1c0002row3_col2\" class=\"data row3 col2\" >bebes</td>\n",
              "                        <td id=\"T_1bc1e0dc_3f2e_11ec_9086_0242ac1c0002row3_col3\" class=\"data row3 col3\" >27.000000</td>\n",
              "                        <td id=\"T_1bc1e0dc_3f2e_11ec_9086_0242ac1c0002row3_col4\" class=\"data row3 col4\" >261.000000</td>\n",
              "                        <td id=\"T_1bc1e0dc_3f2e_11ec_9086_0242ac1c0002row3_col5\" class=\"data row3 col5\" >371.000000</td>\n",
              "                        <td id=\"T_1bc1e0dc_3f2e_11ec_9086_0242ac1c0002row3_col6\" class=\"data row3 col6\" >26.000000</td>\n",
              "                        <td id=\"T_1bc1e0dc_3f2e_11ec_9086_0242ac1c0002row3_col7\" class=\"data row3 col7\" >4.000000</td>\n",
              "                        <td id=\"T_1bc1e0dc_3f2e_11ec_9086_0242ac1c0002row3_col8\" class=\"data row3 col8\" >26.000000</td>\n",
              "            </tr>\n",
              "            <tr>\n",
              "                        <th id=\"T_1bc1e0dc_3f2e_11ec_9086_0242ac1c0002level0_row4\" class=\"row_heading level0 row4\" >4</th>\n",
              "                        <td id=\"T_1bc1e0dc_3f2e_11ec_9086_0242ac1c0002row4_col0\" class=\"data row4 col0\" >4</td>\n",
              "                        <td id=\"T_1bc1e0dc_3f2e_11ec_9086_0242ac1c0002row4_col1\" class=\"data row4 col1\" >9dc1a7de274444849c219cff195d0b71</td>\n",
              "                        <td id=\"T_1bc1e0dc_3f2e_11ec_9086_0242ac1c0002row4_col2\" class=\"data row4 col2\" >utilidades_domesticas</td>\n",
              "                        <td id=\"T_1bc1e0dc_3f2e_11ec_9086_0242ac1c0002row4_col3\" class=\"data row4 col3\" >37.000000</td>\n",
              "                        <td id=\"T_1bc1e0dc_3f2e_11ec_9086_0242ac1c0002row4_col4\" class=\"data row4 col4\" >402.000000</td>\n",
              "                        <td id=\"T_1bc1e0dc_3f2e_11ec_9086_0242ac1c0002row4_col5\" class=\"data row4 col5\" >625.000000</td>\n",
              "                        <td id=\"T_1bc1e0dc_3f2e_11ec_9086_0242ac1c0002row4_col6\" class=\"data row4 col6\" >20.000000</td>\n",
              "                        <td id=\"T_1bc1e0dc_3f2e_11ec_9086_0242ac1c0002row4_col7\" class=\"data row4 col7\" >17.000000</td>\n",
              "                        <td id=\"T_1bc1e0dc_3f2e_11ec_9086_0242ac1c0002row4_col8\" class=\"data row4 col8\" >13.000000</td>\n",
              "            </tr>\n",
              "    </tbody></table>"
            ],
            "text/plain": [
              "<pandas.io.formats.style.Styler at 0x7f7657e480d0>"
            ]
          },
          "metadata": {}
        },
        {
          "output_type": "stream",
          "name": "stdout",
          "text": [
            "Shape is (32951, 9) \n",
            "\n",
            "\n",
            "Avaliando nulls\n",
            "\n",
            "Unnamed: 0                      0\n",
            "product_id                      0\n",
            "product_category_name         610\n",
            "product_name_lenght           610\n",
            "product_description_lenght    610\n",
            "product_weight_g                2\n",
            "product_length_cm               2\n",
            "product_height_cm               2\n",
            "product_width_cm                2\n",
            "dtype: int64\n",
            "\n",
            "\n",
            "Describe de todas as variáveis\n",
            "\n",
            "        Unnamed: 0  product_name_lenght  ...  product_height_cm  product_width_cm\n",
            "count   32951.000            32341.000  ...          32949.000         32949.000\n",
            "mean    16475.000               48.477  ...             16.938            23.197\n",
            "std      9512.279               10.246  ...             13.638            12.079\n",
            "min         0.000                5.000  ...              2.000             6.000\n",
            "25%      8237.500               42.000  ...              8.000            15.000\n",
            "50%     16475.000               51.000  ...             13.000            20.000\n",
            "75%     24712.500               57.000  ...             21.000            30.000\n",
            "max     32950.000               76.000  ...            105.000           118.000\n",
            "\n",
            "[8 rows x 7 columns]\n"
          ]
        }
      ]
    },
    {
      "cell_type": "markdown",
      "metadata": {
        "id": "0upqp3IL2bA8"
      },
      "source": [
        "### Limpeza dos dados\n",
        "\n",
        "O objetivo desta etapa é tratar as bases de dados para deixar as mesmas prontas para análises"
      ]
    },
    {
      "cell_type": "code",
      "metadata": {
        "id": "TzVI5OAlOo3k"
      },
      "source": [
        "def limpezaDados(dataf,desc):\n",
        "  try:\n",
        "    # Drop da coluna Unnamed: 0\tde todos os datasets\n",
        "    dataf.drop(['Unnamed: 0'], axis=1, inplace=True)\n",
        "    print('Coluna Unnamed:0 excluída do df ' + desc)\n",
        "  except:\n",
        "    print('Não existe coluna Unnamed:0 para excluir no df ' + desc)\n",
        "  finally:\n",
        "    # Como existem poucos valores nulos, irei excluir todas as linhas que tenha alguma informação faltante\n",
        "    dataf.dropna()"
      ],
      "execution_count": 5,
      "outputs": []
    },
    {
      "cell_type": "code",
      "metadata": {
        "colab": {
          "base_uri": "https://localhost:8080/"
        },
        "id": "u_KN1GYMPl25",
        "outputId": "2d0c3e5e-630f-44ad-a9d9-85f5794f5e34"
      },
      "source": [
        "limpezaDados(orders_df,'orders_df')\n",
        "limpezaDados(orders_itens_df,'orders_itens_df')\n",
        "limpezaDados(orders_reviews_df,'orders_reviews_df')\n",
        "limpezaDados(products_df,'products_df')"
      ],
      "execution_count": 6,
      "outputs": [
        {
          "output_type": "stream",
          "name": "stdout",
          "text": [
            "Coluna Unnamed:0 excluída do df orders_df\n",
            "Coluna Unnamed:0 excluída do df orders_itens_df\n",
            "Coluna Unnamed:0 excluída do df orders_reviews_df\n",
            "Coluna Unnamed:0 excluída do df products_df\n"
          ]
        }
      ]
    },
    {
      "cell_type": "markdown",
      "metadata": {
        "id": "TJrE7K_mSe3n"
      },
      "source": [
        "### Exploração dos Dados\n",
        "\n",
        "O objetivo desta etapa é explorar os dados e identificar:\n",
        "* Algumas correlações\n",
        "* Como as tabelas se relacionam"
      ]
    },
    {
      "cell_type": "code",
      "metadata": {
        "colab": {
          "base_uri": "https://localhost:8080/",
          "height": 142
        },
        "id": "sF8NtTXEVOS0",
        "outputId": "671d94d6-5133-4372-a002-e7ca01c64511"
      },
      "source": [
        "orders_df.sample(3)"
      ],
      "execution_count": 7,
      "outputs": [
        {
          "output_type": "execute_result",
          "data": {
            "text/html": [
              "<div>\n",
              "<style scoped>\n",
              "    .dataframe tbody tr th:only-of-type {\n",
              "        vertical-align: middle;\n",
              "    }\n",
              "\n",
              "    .dataframe tbody tr th {\n",
              "        vertical-align: top;\n",
              "    }\n",
              "\n",
              "    .dataframe thead th {\n",
              "        text-align: right;\n",
              "    }\n",
              "</style>\n",
              "<table border=\"1\" class=\"dataframe\">\n",
              "  <thead>\n",
              "    <tr style=\"text-align: right;\">\n",
              "      <th></th>\n",
              "      <th>order_id</th>\n",
              "      <th>customer_id</th>\n",
              "      <th>order_status</th>\n",
              "    </tr>\n",
              "  </thead>\n",
              "  <tbody>\n",
              "    <tr>\n",
              "      <th>39591</th>\n",
              "      <td>9344b511665d7cc933ea273f0231bf61</td>\n",
              "      <td>9084a4f87533ee359f52a7fb7673e880</td>\n",
              "      <td>delivered</td>\n",
              "    </tr>\n",
              "    <tr>\n",
              "      <th>61278</th>\n",
              "      <td>61a689b9ff547322cd08d17069939e86</td>\n",
              "      <td>dafde71460a8cb1b3c205fc8825cdc53</td>\n",
              "      <td>delivered</td>\n",
              "    </tr>\n",
              "    <tr>\n",
              "      <th>1132</th>\n",
              "      <td>7032fb16c3a9d982c9aa86f47cefdd3e</td>\n",
              "      <td>d946aedc7ae05f2259b2c2f9342e6272</td>\n",
              "      <td>delivered</td>\n",
              "    </tr>\n",
              "  </tbody>\n",
              "</table>\n",
              "</div>"
            ],
            "text/plain": [
              "                               order_id  ... order_status\n",
              "39591  9344b511665d7cc933ea273f0231bf61  ...    delivered\n",
              "61278  61a689b9ff547322cd08d17069939e86  ...    delivered\n",
              "1132   7032fb16c3a9d982c9aa86f47cefdd3e  ...    delivered\n",
              "\n",
              "[3 rows x 3 columns]"
            ]
          },
          "metadata": {},
          "execution_count": 7
        }
      ]
    },
    {
      "cell_type": "code",
      "metadata": {
        "colab": {
          "base_uri": "https://localhost:8080/",
          "height": 142
        },
        "id": "xtiSQHbgVRkQ",
        "outputId": "e35939a2-33a9-478d-dfec-1c4174ec2a98"
      },
      "source": [
        "orders_itens_df.sample(3)"
      ],
      "execution_count": 8,
      "outputs": [
        {
          "output_type": "execute_result",
          "data": {
            "text/html": [
              "<div>\n",
              "<style scoped>\n",
              "    .dataframe tbody tr th:only-of-type {\n",
              "        vertical-align: middle;\n",
              "    }\n",
              "\n",
              "    .dataframe tbody tr th {\n",
              "        vertical-align: top;\n",
              "    }\n",
              "\n",
              "    .dataframe thead th {\n",
              "        text-align: right;\n",
              "    }\n",
              "</style>\n",
              "<table border=\"1\" class=\"dataframe\">\n",
              "  <thead>\n",
              "    <tr style=\"text-align: right;\">\n",
              "      <th></th>\n",
              "      <th>order_id</th>\n",
              "      <th>order_item_id</th>\n",
              "      <th>product_id</th>\n",
              "      <th>price</th>\n",
              "    </tr>\n",
              "  </thead>\n",
              "  <tbody>\n",
              "    <tr>\n",
              "      <th>81635</th>\n",
              "      <td>b9895a352437ec0701eccabb55cc43ea</td>\n",
              "      <td>1</td>\n",
              "      <td>4955b9229e73cd2a3344be9cd8ad0d5f</td>\n",
              "      <td>119.900</td>\n",
              "    </tr>\n",
              "    <tr>\n",
              "      <th>109329</th>\n",
              "      <td>f86f6472fa9f395d8d9a6751ca118afb</td>\n",
              "      <td>1</td>\n",
              "      <td>99f265229d46f700208ad7cb1ff48aae</td>\n",
              "      <td>44.990</td>\n",
              "    </tr>\n",
              "    <tr>\n",
              "      <th>90982</th>\n",
              "      <td>cea4910391a77b0022ce76f53574a0b3</td>\n",
              "      <td>1</td>\n",
              "      <td>57eea82fdaafa70e1bda51d338583f9b</td>\n",
              "      <td>98.900</td>\n",
              "    </tr>\n",
              "  </tbody>\n",
              "</table>\n",
              "</div>"
            ],
            "text/plain": [
              "                                order_id  ...   price\n",
              "81635   b9895a352437ec0701eccabb55cc43ea  ... 119.900\n",
              "109329  f86f6472fa9f395d8d9a6751ca118afb  ...  44.990\n",
              "90982   cea4910391a77b0022ce76f53574a0b3  ...  98.900\n",
              "\n",
              "[3 rows x 4 columns]"
            ]
          },
          "metadata": {},
          "execution_count": 8
        }
      ]
    },
    {
      "cell_type": "code",
      "metadata": {
        "colab": {
          "base_uri": "https://localhost:8080/",
          "height": 142
        },
        "id": "vQU4kswBVWGe",
        "outputId": "11471a99-f604-4f8f-a46a-19644d444330"
      },
      "source": [
        "products_df.sample(3)"
      ],
      "execution_count": 9,
      "outputs": [
        {
          "output_type": "execute_result",
          "data": {
            "text/html": [
              "<div>\n",
              "<style scoped>\n",
              "    .dataframe tbody tr th:only-of-type {\n",
              "        vertical-align: middle;\n",
              "    }\n",
              "\n",
              "    .dataframe tbody tr th {\n",
              "        vertical-align: top;\n",
              "    }\n",
              "\n",
              "    .dataframe thead th {\n",
              "        text-align: right;\n",
              "    }\n",
              "</style>\n",
              "<table border=\"1\" class=\"dataframe\">\n",
              "  <thead>\n",
              "    <tr style=\"text-align: right;\">\n",
              "      <th></th>\n",
              "      <th>product_id</th>\n",
              "      <th>product_category_name</th>\n",
              "      <th>product_name_lenght</th>\n",
              "      <th>product_description_lenght</th>\n",
              "      <th>product_weight_g</th>\n",
              "      <th>product_length_cm</th>\n",
              "      <th>product_height_cm</th>\n",
              "      <th>product_width_cm</th>\n",
              "    </tr>\n",
              "  </thead>\n",
              "  <tbody>\n",
              "    <tr>\n",
              "      <th>16986</th>\n",
              "      <td>c1254983bd81d72b96867b6838582cf5</td>\n",
              "      <td>esporte_lazer</td>\n",
              "      <td>46.000</td>\n",
              "      <td>565.000</td>\n",
              "      <td>2050.000</td>\n",
              "      <td>20.000</td>\n",
              "      <td>20.000</td>\n",
              "      <td>20.000</td>\n",
              "    </tr>\n",
              "    <tr>\n",
              "      <th>16595</th>\n",
              "      <td>9663cf1ff5c7ff603be0a27b1cf2dde2</td>\n",
              "      <td>bebes</td>\n",
              "      <td>44.000</td>\n",
              "      <td>271.000</td>\n",
              "      <td>600.000</td>\n",
              "      <td>25.000</td>\n",
              "      <td>15.000</td>\n",
              "      <td>25.000</td>\n",
              "    </tr>\n",
              "    <tr>\n",
              "      <th>25430</th>\n",
              "      <td>e7f79c79a485447b88964a9d0b86fe45</td>\n",
              "      <td>perfumaria</td>\n",
              "      <td>45.000</td>\n",
              "      <td>971.000</td>\n",
              "      <td>67.000</td>\n",
              "      <td>16.000</td>\n",
              "      <td>12.000</td>\n",
              "      <td>14.000</td>\n",
              "    </tr>\n",
              "  </tbody>\n",
              "</table>\n",
              "</div>"
            ],
            "text/plain": [
              "                             product_id  ... product_width_cm\n",
              "16986  c1254983bd81d72b96867b6838582cf5  ...           20.000\n",
              "16595  9663cf1ff5c7ff603be0a27b1cf2dde2  ...           25.000\n",
              "25430  e7f79c79a485447b88964a9d0b86fe45  ...           14.000\n",
              "\n",
              "[3 rows x 8 columns]"
            ]
          },
          "metadata": {},
          "execution_count": 9
        }
      ]
    },
    {
      "cell_type": "code",
      "metadata": {
        "colab": {
          "base_uri": "https://localhost:8080/",
          "height": 142
        },
        "id": "N68wkHKTVZnR",
        "outputId": "3bf5e285-be57-4e40-dd9d-ffe742c148c1"
      },
      "source": [
        "orders_reviews_df.sample(3)"
      ],
      "execution_count": 10,
      "outputs": [
        {
          "output_type": "execute_result",
          "data": {
            "text/html": [
              "<div>\n",
              "<style scoped>\n",
              "    .dataframe tbody tr th:only-of-type {\n",
              "        vertical-align: middle;\n",
              "    }\n",
              "\n",
              "    .dataframe tbody tr th {\n",
              "        vertical-align: top;\n",
              "    }\n",
              "\n",
              "    .dataframe thead th {\n",
              "        text-align: right;\n",
              "    }\n",
              "</style>\n",
              "<table border=\"1\" class=\"dataframe\">\n",
              "  <thead>\n",
              "    <tr style=\"text-align: right;\">\n",
              "      <th></th>\n",
              "      <th>review_id</th>\n",
              "      <th>order_id</th>\n",
              "      <th>review_score</th>\n",
              "    </tr>\n",
              "  </thead>\n",
              "  <tbody>\n",
              "    <tr>\n",
              "      <th>11586</th>\n",
              "      <td>21d11eb56acf674dc3d5e0177979ddca</td>\n",
              "      <td>13f13b57aacaec347d9d8f974528cf62</td>\n",
              "      <td>5</td>\n",
              "    </tr>\n",
              "    <tr>\n",
              "      <th>20646</th>\n",
              "      <td>0c76e7a547a531e7bf9f0b99cba071c1</td>\n",
              "      <td>3525e0e57f9d276d522d570bd46cb39c</td>\n",
              "      <td>5</td>\n",
              "    </tr>\n",
              "    <tr>\n",
              "      <th>98619</th>\n",
              "      <td>f486cd11667348d73dae1d150fba5dbc</td>\n",
              "      <td>9887daa2e1181336df4be8ea011d196a</td>\n",
              "      <td>5</td>\n",
              "    </tr>\n",
              "  </tbody>\n",
              "</table>\n",
              "</div>"
            ],
            "text/plain": [
              "                              review_id  ... review_score\n",
              "11586  21d11eb56acf674dc3d5e0177979ddca  ...            5\n",
              "20646  0c76e7a547a531e7bf9f0b99cba071c1  ...            5\n",
              "98619  f486cd11667348d73dae1d150fba5dbc  ...            5\n",
              "\n",
              "[3 rows x 3 columns]"
            ]
          },
          "metadata": {},
          "execution_count": 10
        }
      ]
    },
    {
      "cell_type": "code",
      "metadata": {
        "id": "XnscGf7jVcBV"
      },
      "source": [
        "# Criando dataframe com os joins\n",
        "dfCompilado = pd.merge(orders_itens_df, products_df, how='left', on='product_id')\n",
        "dfCompilado = pd.merge(dfCompilado,orders_df, how='left', on='order_id')\n",
        "dfCompilado = pd.merge(dfCompilado,orders_reviews_df, how='left', on='order_id')\n",
        "dfCompilado.drop(['order_item_id','review_id','product_name_lenght', 'product_description_lenght', 'product_length_cm', 'product_height_cm','product_width_cm','product_weight_g'], axis=1, inplace=True)\n",
        "#reordenar colunas\n",
        "dfCompilado = dfCompilado[['customer_id','order_id','order_status','product_id','product_category_name','price','review_score']]\n"
      ],
      "execution_count": 11,
      "outputs": []
    },
    {
      "cell_type": "code",
      "metadata": {
        "colab": {
          "base_uri": "https://localhost:8080/",
          "height": 204
        },
        "id": "SZaSupoTWh5j",
        "outputId": "ddd03019-e7ef-4273-92ea-f5af32025b53"
      },
      "source": [
        "dfCompilado.sample(5)"
      ],
      "execution_count": 12,
      "outputs": [
        {
          "output_type": "execute_result",
          "data": {
            "text/html": [
              "<div>\n",
              "<style scoped>\n",
              "    .dataframe tbody tr th:only-of-type {\n",
              "        vertical-align: middle;\n",
              "    }\n",
              "\n",
              "    .dataframe tbody tr th {\n",
              "        vertical-align: top;\n",
              "    }\n",
              "\n",
              "    .dataframe thead th {\n",
              "        text-align: right;\n",
              "    }\n",
              "</style>\n",
              "<table border=\"1\" class=\"dataframe\">\n",
              "  <thead>\n",
              "    <tr style=\"text-align: right;\">\n",
              "      <th></th>\n",
              "      <th>customer_id</th>\n",
              "      <th>order_id</th>\n",
              "      <th>order_status</th>\n",
              "      <th>product_id</th>\n",
              "      <th>product_category_name</th>\n",
              "      <th>price</th>\n",
              "      <th>review_score</th>\n",
              "    </tr>\n",
              "  </thead>\n",
              "  <tbody>\n",
              "    <tr>\n",
              "      <th>77450</th>\n",
              "      <td>4ef4f77528c601288dcfb9c522fcf103</td>\n",
              "      <td>af4812c0286cb623517321205ffb5d1e</td>\n",
              "      <td>delivered</td>\n",
              "      <td>48e169d7e70bdfd06b008415e0f072e3</td>\n",
              "      <td>construcao_ferramentas_construcao</td>\n",
              "      <td>6.100</td>\n",
              "      <td>5.000</td>\n",
              "    </tr>\n",
              "    <tr>\n",
              "      <th>10141</th>\n",
              "      <td>556910dd99aff6bc666910e9a872ec6b</td>\n",
              "      <td>17220bb11a8bc3ddfe388dedfe4e4de9</td>\n",
              "      <td>delivered</td>\n",
              "      <td>eed87e4310f2dbbddf043552065b660e</td>\n",
              "      <td>fashion_bolsas_e_acessorios</td>\n",
              "      <td>24.900</td>\n",
              "      <td>5.000</td>\n",
              "    </tr>\n",
              "    <tr>\n",
              "      <th>99065</th>\n",
              "      <td>695ad68c4f5db80c7281c0040e623369</td>\n",
              "      <td>df5db2ddf13eb709a018dea459afb4b5</td>\n",
              "      <td>delivered</td>\n",
              "      <td>4e4210d7d638f6e904297071820f08db</td>\n",
              "      <td>relogios_presentes</td>\n",
              "      <td>26.900</td>\n",
              "      <td>3.000</td>\n",
              "    </tr>\n",
              "    <tr>\n",
              "      <th>46893</th>\n",
              "      <td>2cfbc515734b19a3107a9e5b0cd7b250</td>\n",
              "      <td>69eb180c9de9dcddefe8a3e8a7ce8016</td>\n",
              "      <td>delivered</td>\n",
              "      <td>cd9d71c495bc54dbb324571016b7f37c</td>\n",
              "      <td>moveis_escritorio</td>\n",
              "      <td>159.940</td>\n",
              "      <td>5.000</td>\n",
              "    </tr>\n",
              "    <tr>\n",
              "      <th>78228</th>\n",
              "      <td>9b04a56f34a9db495868ffb6033fe2f5</td>\n",
              "      <td>b0fd0236ce757738793836930b830f1e</td>\n",
              "      <td>delivered</td>\n",
              "      <td>8c154410716f31649d25e436f7d5d838</td>\n",
              "      <td>beleza_saude</td>\n",
              "      <td>95.000</td>\n",
              "      <td>5.000</td>\n",
              "    </tr>\n",
              "  </tbody>\n",
              "</table>\n",
              "</div>"
            ],
            "text/plain": [
              "                            customer_id  ... review_score\n",
              "77450  4ef4f77528c601288dcfb9c522fcf103  ...        5.000\n",
              "10141  556910dd99aff6bc666910e9a872ec6b  ...        5.000\n",
              "99065  695ad68c4f5db80c7281c0040e623369  ...        3.000\n",
              "46893  2cfbc515734b19a3107a9e5b0cd7b250  ...        5.000\n",
              "78228  9b04a56f34a9db495868ffb6033fe2f5  ...        5.000\n",
              "\n",
              "[5 rows x 7 columns]"
            ]
          },
          "metadata": {},
          "execution_count": 12
        }
      ]
    },
    {
      "cell_type": "code",
      "metadata": {
        "id": "D4PvgnNVEsKK"
      },
      "source": [
        "dfCompilado.to_csv('dfCompilado.csv', index = False, header=True) "
      ],
      "execution_count": 67,
      "outputs": []
    },
    {
      "cell_type": "code",
      "metadata": {
        "colab": {
          "base_uri": "https://localhost:8080/"
        },
        "id": "Kk6icW73WmsB",
        "outputId": "ecb244fd-e294-415f-f2a3-79161c3f6d94"
      },
      "source": [
        "dfCompilado['review_score'].value_counts()"
      ],
      "execution_count": 13,
      "outputs": [
        {
          "output_type": "execute_result",
          "data": {
            "text/plain": [
              "5.000    63525\n",
              "4.000    21315\n",
              "1.000    14235\n",
              "3.000     9423\n",
              "2.000     3874\n",
              "Name: review_score, dtype: int64"
            ]
          },
          "metadata": {},
          "execution_count": 13
        }
      ]
    },
    {
      "cell_type": "code",
      "metadata": {
        "colab": {
          "base_uri": "https://localhost:8080/"
        },
        "id": "lmdLZUD8aDrh",
        "outputId": "eee33817-8d8f-4765-857d-212803465bd7"
      },
      "source": [
        "dfCompilado['order_status'].value_counts()"
      ],
      "execution_count": 14,
      "outputs": [
        {
          "output_type": "execute_result",
          "data": {
            "text/plain": [
              "delivered      110840\n",
              "shipped          1196\n",
              "canceled          546\n",
              "invoiced          364\n",
              "processing        358\n",
              "unavailable         7\n",
              "approved            3\n",
              "Name: order_status, dtype: int64"
            ]
          },
          "metadata": {},
          "execution_count": 14
        }
      ]
    },
    {
      "cell_type": "code",
      "metadata": {
        "colab": {
          "base_uri": "https://localhost:8080/"
        },
        "id": "7tBgQqmfd1ig",
        "outputId": "2a21a0ac-4e0d-48b1-c0c0-5f6acc0983d4"
      },
      "source": [
        "dfCompilado['product_category_name'].value_counts()"
      ],
      "execution_count": 15,
      "outputs": [
        {
          "output_type": "execute_result",
          "data": {
            "text/plain": [
              "cama_mesa_banho                  11270\n",
              "beleza_saude                      9727\n",
              "esporte_lazer                     8700\n",
              "moveis_decoracao                  8415\n",
              "informatica_acessorios            7894\n",
              "                                 ...  \n",
              "cds_dvds_musicais                   14\n",
              "la_cuisine                          14\n",
              "pc_gamer                             9\n",
              "fashion_roupa_infanto_juvenil        8\n",
              "seguros_e_servicos                   2\n",
              "Name: product_category_name, Length: 73, dtype: int64"
            ]
          },
          "metadata": {},
          "execution_count": 15
        }
      ]
    },
    {
      "cell_type": "code",
      "metadata": {
        "colab": {
          "base_uri": "https://localhost:8080/"
        },
        "id": "ImU4cDHtfNIS",
        "outputId": "bc8e645d-67be-4807-d3dd-1f7eb064effa"
      },
      "source": [
        "dfCompilado[dfCompilado['order_status']!='delivered']['review_score'].value_counts()"
      ],
      "execution_count": 42,
      "outputs": [
        {
          "output_type": "execute_result",
          "data": {
            "text/plain": [
              "1.000    1660\n",
              "5.000     213\n",
              "3.000     181\n",
              "2.000     174\n",
              "4.000     131\n",
              "Name: review_score, dtype: int64"
            ]
          },
          "metadata": {},
          "execution_count": 42
        }
      ]
    },
    {
      "cell_type": "markdown",
      "metadata": {
        "id": "70OnXS_WmZh6"
      },
      "source": [
        "## Recomendações"
      ]
    },
    {
      "cell_type": "markdown",
      "metadata": {
        "id": "JVCQ9gYkm3IJ"
      },
      "source": [
        "### Recomendação de itens mais/melhores avaliados\n",
        "\n",
        "Essa recomendação pode ser utilizada quando um cliente entrar no site e sair sem fazer compra alguma"
      ]
    },
    {
      "cell_type": "code",
      "metadata": {
        "colab": {
          "base_uri": "https://localhost:8080/",
          "height": 390
        },
        "id": "Eh2BsAmjmGSm",
        "outputId": "c532ea1b-149e-463d-c014-86c6718f7ecc"
      },
      "source": [
        "ratings_explicit = dfCompilado[(dfCompilado['review_score'] != 0) & (dfCompilado['order_status'] == 'delivered')]\n",
        "\n",
        "ratings_sum = pd.DataFrame(dfCompilado.groupby(['product_id'])['review_score'].sum())\\\n",
        "  .sort_values('review_score', ascending=False)\n",
        "\n",
        "ratings_sum.head(10)"
      ],
      "execution_count": 62,
      "outputs": [
        {
          "output_type": "execute_result",
          "data": {
            "text/html": [
              "<div>\n",
              "<style scoped>\n",
              "    .dataframe tbody tr th:only-of-type {\n",
              "        vertical-align: middle;\n",
              "    }\n",
              "\n",
              "    .dataframe tbody tr th {\n",
              "        vertical-align: top;\n",
              "    }\n",
              "\n",
              "    .dataframe thead th {\n",
              "        text-align: right;\n",
              "    }\n",
              "</style>\n",
              "<table border=\"1\" class=\"dataframe\">\n",
              "  <thead>\n",
              "    <tr style=\"text-align: right;\">\n",
              "      <th></th>\n",
              "      <th>review_score</th>\n",
              "    </tr>\n",
              "    <tr>\n",
              "      <th>product_id</th>\n",
              "      <th></th>\n",
              "    </tr>\n",
              "  </thead>\n",
              "  <tbody>\n",
              "    <tr>\n",
              "      <th>aca2eb7d00ea1a7b8ebd4e68314663af</th>\n",
              "      <td>2106.000</td>\n",
              "    </tr>\n",
              "    <tr>\n",
              "      <th>422879e10f46682990de24d770e7f83d</th>\n",
              "      <td>1918.000</td>\n",
              "    </tr>\n",
              "    <tr>\n",
              "      <th>99a4788cb24856965c36a24e339b6058</th>\n",
              "      <td>1879.000</td>\n",
              "    </tr>\n",
              "    <tr>\n",
              "      <th>389d119b48cf3043d311335e499d9c6b</th>\n",
              "      <td>1610.000</td>\n",
              "    </tr>\n",
              "    <tr>\n",
              "      <th>368c6c730842d78016ad823897a372db</th>\n",
              "      <td>1522.000</td>\n",
              "    </tr>\n",
              "    <tr>\n",
              "      <th>53759a2ecddad2bb87a079a1f1519f73</th>\n",
              "      <td>1443.000</td>\n",
              "    </tr>\n",
              "    <tr>\n",
              "      <th>d1c427060a0f73f6b889a5c7c61f2ac4</th>\n",
              "      <td>1426.000</td>\n",
              "    </tr>\n",
              "    <tr>\n",
              "      <th>53b36df67ebb7c41585e8d54d6772e08</th>\n",
              "      <td>1341.000</td>\n",
              "    </tr>\n",
              "    <tr>\n",
              "      <th>154e7e31ebfa092203795c972e5804a6</th>\n",
              "      <td>1260.000</td>\n",
              "    </tr>\n",
              "    <tr>\n",
              "      <th>3dd2a17168ec895c781a9191c1e95ad7</th>\n",
              "      <td>1145.000</td>\n",
              "    </tr>\n",
              "  </tbody>\n",
              "</table>\n",
              "</div>"
            ],
            "text/plain": [
              "                                  review_score\n",
              "product_id                                    \n",
              "aca2eb7d00ea1a7b8ebd4e68314663af      2106.000\n",
              "422879e10f46682990de24d770e7f83d      1918.000\n",
              "99a4788cb24856965c36a24e339b6058      1879.000\n",
              "389d119b48cf3043d311335e499d9c6b      1610.000\n",
              "368c6c730842d78016ad823897a372db      1522.000\n",
              "53759a2ecddad2bb87a079a1f1519f73      1443.000\n",
              "d1c427060a0f73f6b889a5c7c61f2ac4      1426.000\n",
              "53b36df67ebb7c41585e8d54d6772e08      1341.000\n",
              "154e7e31ebfa092203795c972e5804a6      1260.000\n",
              "3dd2a17168ec895c781a9191c1e95ad7      1145.000"
            ]
          },
          "metadata": {},
          "execution_count": 62
        }
      ]
    },
    {
      "cell_type": "markdown",
      "metadata": {
        "id": "CnfmtA7L2ToF"
      },
      "source": [
        "### Recomendação de itens mais populares (mais comprados)\n",
        "\n",
        "Essa recomendação pode ser utilizada quando um cliente entrar no site e sair sem fazer compra alguma"
      ]
    },
    {
      "cell_type": "code",
      "metadata": {
        "colab": {
          "base_uri": "https://localhost:8080/",
          "height": 390
        },
        "id": "3bjeECm4nDQ7",
        "outputId": "ebae56e2-b88e-4202-f886-9d13a95790fe"
      },
      "source": [
        "count = dfCompilado.groupby(by='product_id', as_index=False) \\\n",
        "  .agg({'customer_id': pd.Series.nunique}) \\\n",
        "  .rename(columns={'customer_id': 'customer_count'})\n",
        "\n",
        "buy_count = count.set_index('product_id') \\\n",
        "  .sort_values('customer_count', ascending = False)\n",
        "\n",
        "buy_count.head(10)"
      ],
      "execution_count": 64,
      "outputs": [
        {
          "output_type": "execute_result",
          "data": {
            "text/html": [
              "<div>\n",
              "<style scoped>\n",
              "    .dataframe tbody tr th:only-of-type {\n",
              "        vertical-align: middle;\n",
              "    }\n",
              "\n",
              "    .dataframe tbody tr th {\n",
              "        vertical-align: top;\n",
              "    }\n",
              "\n",
              "    .dataframe thead th {\n",
              "        text-align: right;\n",
              "    }\n",
              "</style>\n",
              "<table border=\"1\" class=\"dataframe\">\n",
              "  <thead>\n",
              "    <tr style=\"text-align: right;\">\n",
              "      <th></th>\n",
              "      <th>customer_count</th>\n",
              "    </tr>\n",
              "    <tr>\n",
              "      <th>product_id</th>\n",
              "      <th></th>\n",
              "    </tr>\n",
              "  </thead>\n",
              "  <tbody>\n",
              "    <tr>\n",
              "      <th>99a4788cb24856965c36a24e339b6058</th>\n",
              "      <td>467</td>\n",
              "    </tr>\n",
              "    <tr>\n",
              "      <th>aca2eb7d00ea1a7b8ebd4e68314663af</th>\n",
              "      <td>431</td>\n",
              "    </tr>\n",
              "    <tr>\n",
              "      <th>422879e10f46682990de24d770e7f83d</th>\n",
              "      <td>352</td>\n",
              "    </tr>\n",
              "    <tr>\n",
              "      <th>d1c427060a0f73f6b889a5c7c61f2ac4</th>\n",
              "      <td>323</td>\n",
              "    </tr>\n",
              "    <tr>\n",
              "      <th>389d119b48cf3043d311335e499d9c6b</th>\n",
              "      <td>311</td>\n",
              "    </tr>\n",
              "    <tr>\n",
              "      <th>53b36df67ebb7c41585e8d54d6772e08</th>\n",
              "      <td>306</td>\n",
              "    </tr>\n",
              "    <tr>\n",
              "      <th>368c6c730842d78016ad823897a372db</th>\n",
              "      <td>291</td>\n",
              "    </tr>\n",
              "    <tr>\n",
              "      <th>53759a2ecddad2bb87a079a1f1519f73</th>\n",
              "      <td>287</td>\n",
              "    </tr>\n",
              "    <tr>\n",
              "      <th>154e7e31ebfa092203795c972e5804a6</th>\n",
              "      <td>269</td>\n",
              "    </tr>\n",
              "    <tr>\n",
              "      <th>2b4609f8948be18874494203496bc318</th>\n",
              "      <td>259</td>\n",
              "    </tr>\n",
              "  </tbody>\n",
              "</table>\n",
              "</div>"
            ],
            "text/plain": [
              "                                  customer_count\n",
              "product_id                                      \n",
              "99a4788cb24856965c36a24e339b6058             467\n",
              "aca2eb7d00ea1a7b8ebd4e68314663af             431\n",
              "422879e10f46682990de24d770e7f83d             352\n",
              "d1c427060a0f73f6b889a5c7c61f2ac4             323\n",
              "389d119b48cf3043d311335e499d9c6b             311\n",
              "53b36df67ebb7c41585e8d54d6772e08             306\n",
              "368c6c730842d78016ad823897a372db             291\n",
              "53759a2ecddad2bb87a079a1f1519f73             287\n",
              "154e7e31ebfa092203795c972e5804a6             269\n",
              "2b4609f8948be18874494203496bc318             259"
            ]
          },
          "metadata": {},
          "execution_count": 64
        }
      ]
    },
    {
      "cell_type": "markdown",
      "metadata": {
        "id": "HJcNKy2_9_0I"
      },
      "source": [
        "### sss"
      ]
    },
    {
      "cell_type": "code",
      "metadata": {
        "colab": {
          "base_uri": "https://localhost:8080/"
        },
        "id": "9DCiBVB5-Dt3",
        "outputId": "95df0160-0671-4027-af9b-43d14bd57a66"
      },
      "source": [
        "%%writefile data.py\n",
        "import pandas as pd\n",
        "from sklearn.metrics.pairwise import cosine_similarity\n",
        "\n",
        "def get_data(path):\n",
        "  return pd.read_csv(path)\n",
        "\n",
        "\n",
        "def start_pipeline(dataf):\n",
        "  return dataf.copy()\n",
        "\n",
        "\n",
        "def get_book_counts(dataf):\n",
        "  return dataf.groupby(by='product_id', as_index=False) \\\n",
        "    .agg({'customer_id': pd.Series.nunique}) \\\n",
        "    .rename(columns={'customer_id': 'customer_id_count'}) \\\n",
        "    .set_index('product_id') \\\n",
        "    .sort_values('customer_id_count', ascending = False)\n",
        "\n",
        "\n",
        "def get_n_top_values(dataf, n):\n",
        "  return dataf.head(n) \\\n",
        "    .index \\\n",
        "    .tolist()\n",
        "\n",
        "\n",
        "def format_sample(dataf):\n",
        "  return pd.DataFrame({\n",
        "      \"user\": dataf[\"customer_id\"],\n",
        "      \"book\": dataf[\"product_id\"],\n",
        "      \"action\": dataf[\"review_score\"]\n",
        "  })\n",
        "\n",
        "\n",
        "def get_top_books_ids(dataf, sample_size=1000):\n",
        "  return dataf \\\n",
        "    .pipe(start_pipeline) \\\n",
        "    .pipe(get_book_counts) \\\n",
        "    .pipe(get_n_top_values, sample_size)\n",
        "\n",
        "\n",
        "def get_item_based_similarity_matrix(data):\n",
        "  top_book_ids = get_top_books_ids(data)\n",
        "  book_sampled_relationship_data = data[data[\"product_id\"].isin(top_book_ids)] \\\n",
        "    .pipe(format_sample) \\\n",
        "    .pivot_table(index=\"user\", columns=\"book\", values=\"action\").fillna(0)\n",
        "  return cosine_similarity(book_sampled_relationship_data.T), book_sampled_relationship_data.T.index"
      ],
      "execution_count": 82,
      "outputs": [
        {
          "output_type": "stream",
          "name": "stdout",
          "text": [
            "Overwriting data.py\n"
          ]
        }
      ]
    },
    {
      "cell_type": "code",
      "metadata": {
        "colab": {
          "base_uri": "https://localhost:8080/"
        },
        "id": "jSEuQMf3Bajw",
        "outputId": "3f33e31b-6673-4239-c154-5ab4347dd388"
      },
      "source": [
        "%%writefile item_based_recommender.py\n",
        "import random\n",
        "import numpy as np\n",
        "\n",
        "from data import get_data, get_item_based_similarity_matrix\n",
        "\n",
        "class ItemBasedRecommender:\n",
        "\n",
        "  def __init__(self, data_path):\n",
        "    self.data_path = data_path\n",
        "\n",
        "  def setup(self):\n",
        "    data = get_data(self.data_path)\n",
        "    sim_matrix, available_items_index = get_item_based_similarity_matrix(data)\n",
        "    self.available_items_index = available_items_index\n",
        "    self.sim_matrix = sim_matrix\n",
        "\n",
        "  def get_random_item_index(self):\n",
        "    item_id = self.available_items_index[random.randint(0, self.sim_matrix.shape[0])]\n",
        "    return item_id\n",
        "\n",
        "  def get_n_closest(self, item_id, n=10):\n",
        "    if item_id not in self.available_items_index:\n",
        "      raise ValueError('Item is not available on data.')\n",
        "    item_index = self.available_items_index.tolist().index(item_id)\n",
        "    closest_n_iten = np.argsort(-self.sim_matrix[item_index])[1:n]\n",
        "    n_closest = []\n",
        "    for item_data in zip(self.available_items_index[closest_n_iten], self.sim_matrix[item_index][closest_n_iten]):\n",
        "      n_closest.append(item_data)\n",
        "    return tuple(n_closest)"
      ],
      "execution_count": 83,
      "outputs": [
        {
          "output_type": "stream",
          "name": "stdout",
          "text": [
            "Overwriting item_based_recommender.py\n"
          ]
        }
      ]
    },
    {
      "cell_type": "code",
      "metadata": {
        "colab": {
          "base_uri": "https://localhost:8080/",
          "height": 340
        },
        "id": "2zNJqYmkBlnP",
        "outputId": "cc2c00fc-6039-47d7-fba8-1c6f9eb86e77"
      },
      "source": [
        "from item_based_recommender import ItemBasedRecommender\n",
        "\n",
        "ratings_df_path = 'dfCompilado.csv'\n",
        "\n",
        "item_recommender = ItemBasedRecommender(ratings_df_path)\n",
        "\n",
        "item_recommender.setup()"
      ],
      "execution_count": 84,
      "outputs": [
        {
          "output_type": "error",
          "ename": "NameError",
          "evalue": "ignored",
          "traceback": [
            "\u001b[0;31m---------------------------------------------------------------------------\u001b[0m",
            "\u001b[0;31mNameError\u001b[0m                                 Traceback (most recent call last)",
            "\u001b[0;32m<ipython-input-84-ac5cdbdbf0a7>\u001b[0m in \u001b[0;36m<module>\u001b[0;34m()\u001b[0m\n\u001b[1;32m      5\u001b[0m \u001b[0mitem_recommender\u001b[0m \u001b[0;34m=\u001b[0m \u001b[0mItemBasedRecommender\u001b[0m\u001b[0;34m(\u001b[0m\u001b[0mratings_df_path\u001b[0m\u001b[0;34m)\u001b[0m\u001b[0;34m\u001b[0m\u001b[0;34m\u001b[0m\u001b[0m\n\u001b[1;32m      6\u001b[0m \u001b[0;34m\u001b[0m\u001b[0m\n\u001b[0;32m----> 7\u001b[0;31m \u001b[0mitem_recommender\u001b[0m\u001b[0;34m.\u001b[0m\u001b[0msetup\u001b[0m\u001b[0;34m(\u001b[0m\u001b[0;34m)\u001b[0m\u001b[0;34m\u001b[0m\u001b[0;34m\u001b[0m\u001b[0m\n\u001b[0m",
            "\u001b[0;32m/content/item_based_recommender.py\u001b[0m in \u001b[0;36msetup\u001b[0;34m(self)\u001b[0m\n\u001b[1;32m     11\u001b[0m   \u001b[0;32mdef\u001b[0m \u001b[0msetup\u001b[0m\u001b[0;34m(\u001b[0m\u001b[0mself\u001b[0m\u001b[0;34m)\u001b[0m\u001b[0;34m:\u001b[0m\u001b[0;34m\u001b[0m\u001b[0;34m\u001b[0m\u001b[0m\n\u001b[1;32m     12\u001b[0m     \u001b[0mdata\u001b[0m \u001b[0;34m=\u001b[0m \u001b[0mget_data\u001b[0m\u001b[0;34m(\u001b[0m\u001b[0mself\u001b[0m\u001b[0;34m.\u001b[0m\u001b[0mdata_path\u001b[0m\u001b[0;34m)\u001b[0m\u001b[0;34m\u001b[0m\u001b[0;34m\u001b[0m\u001b[0m\n\u001b[0;32m---> 13\u001b[0;31m     \u001b[0msim_matrix\u001b[0m\u001b[0;34m,\u001b[0m \u001b[0mavailable_items_index\u001b[0m \u001b[0;34m=\u001b[0m \u001b[0mget_item_based_similarity_matrix\u001b[0m\u001b[0;34m(\u001b[0m\u001b[0mdata\u001b[0m\u001b[0;34m)\u001b[0m\u001b[0;34m\u001b[0m\u001b[0;34m\u001b[0m\u001b[0m\n\u001b[0m\u001b[1;32m     14\u001b[0m     \u001b[0mself\u001b[0m\u001b[0;34m.\u001b[0m\u001b[0mavailable_items_index\u001b[0m \u001b[0;34m=\u001b[0m \u001b[0mavailable_items_index\u001b[0m\u001b[0;34m\u001b[0m\u001b[0;34m\u001b[0m\u001b[0m\n\u001b[1;32m     15\u001b[0m     \u001b[0mself\u001b[0m\u001b[0;34m.\u001b[0m\u001b[0msim_matrix\u001b[0m \u001b[0;34m=\u001b[0m \u001b[0msim_matrix\u001b[0m\u001b[0;34m\u001b[0m\u001b[0;34m\u001b[0m\u001b[0m\n",
            "\u001b[0;32m/content/data.py\u001b[0m in \u001b[0;36mget_item_based_similarity_matrix\u001b[0;34m(data)\u001b[0m\n\u001b[1;32m     41\u001b[0m \u001b[0;32mdef\u001b[0m \u001b[0mget_item_based_similarity_matrix\u001b[0m\u001b[0;34m(\u001b[0m\u001b[0mdata\u001b[0m\u001b[0;34m)\u001b[0m\u001b[0;34m:\u001b[0m\u001b[0;34m\u001b[0m\u001b[0;34m\u001b[0m\u001b[0m\n\u001b[1;32m     42\u001b[0m   \u001b[0mtop_book_ids\u001b[0m \u001b[0;34m=\u001b[0m \u001b[0mget_top_books_ids\u001b[0m\u001b[0;34m(\u001b[0m\u001b[0mdata\u001b[0m\u001b[0;34m)\u001b[0m\u001b[0;34m\u001b[0m\u001b[0;34m\u001b[0m\u001b[0m\n\u001b[0;32m---> 43\u001b[0;31m   \u001b[0mbook_sampled_relationship_data\u001b[0m \u001b[0;34m=\u001b[0m \u001b[0mdata\u001b[0m\u001b[0;34m[\u001b[0m\u001b[0mdata\u001b[0m\u001b[0;34m[\u001b[0m\u001b[0;34m\"product_id\"\u001b[0m\u001b[0;34m]\u001b[0m\u001b[0;34m.\u001b[0m\u001b[0misin\u001b[0m\u001b[0;34m(\u001b[0m\u001b[0mtop_book_ids\u001b[0m\u001b[0;34m)\u001b[0m\u001b[0;34m]\u001b[0m\u001b[0;31m \u001b[0m\u001b[0;31m\\\u001b[0m\u001b[0;34m\u001b[0m\u001b[0;34m\u001b[0m\u001b[0m\n\u001b[0m\u001b[1;32m     44\u001b[0m     \u001b[0;34m.\u001b[0m\u001b[0mpipe\u001b[0m\u001b[0;34m(\u001b[0m\u001b[0mformat_sample\u001b[0m\u001b[0;34m)\u001b[0m\u001b[0;31m \u001b[0m\u001b[0;31m\\\u001b[0m\u001b[0;34m\u001b[0m\u001b[0;34m\u001b[0m\u001b[0m\n\u001b[1;32m     45\u001b[0m     \u001b[0;34m.\u001b[0m\u001b[0mpivot_table\u001b[0m\u001b[0;34m(\u001b[0m\u001b[0mindex\u001b[0m\u001b[0;34m=\u001b[0m\u001b[0;34m\"user\"\u001b[0m\u001b[0;34m,\u001b[0m \u001b[0mcolumns\u001b[0m\u001b[0;34m=\u001b[0m\u001b[0;34m\"book\"\u001b[0m\u001b[0;34m,\u001b[0m \u001b[0mvalues\u001b[0m\u001b[0;34m=\u001b[0m\u001b[0;34m\"action\"\u001b[0m\u001b[0;34m)\u001b[0m\u001b[0;34m.\u001b[0m\u001b[0mfillna\u001b[0m\u001b[0;34m(\u001b[0m\u001b[0;36m0\u001b[0m\u001b[0;34m)\u001b[0m\u001b[0;34m\u001b[0m\u001b[0;34m\u001b[0m\u001b[0m\n",
            "\u001b[0;31mNameError\u001b[0m: name 'get_top_books_ids' is not defined"
          ]
        }
      ]
    },
    {
      "cell_type": "code",
      "metadata": {
        "id": "_WjiK_9cFTch"
      },
      "source": [
        ""
      ],
      "execution_count": null,
      "outputs": []
    }
  ]
}